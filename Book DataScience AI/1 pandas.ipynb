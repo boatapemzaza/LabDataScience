{
 "cells": [
  {
   "cell_type": "raw",
   "metadata": {},
   "source": [
    "Pandas\n",
    "โครงสร้าง\n",
    "1). series เหมือน array 1 มิติ โดยต่างจาก array ที่เรียก index ว่า label\n",
    "            โดยจะแสดง index และ data\n",
    "2). dataframe เหมือน array 2 มิติ โดย มี column ตั่งแต่ 2 ขึ้นไป ซึ่งแต่ละ dataframe แตกเป็น series ได้ หรือนำ series หลายๆตัวมาประกอบเป็น dataframe ได้\n",
    "            โดยจะมีการตั่งชื่อให้ column หรือ หัวข้อ\n",
    "3). panel เหมือน array 3 มิติ โดยจะมีแผ่น dataframe ซ้อนๆกัน ประกอบด้วย 3 แกน\n",
    "    items axis 0 คือ dataframe แต่ละชั้น\n",
    "    major_axis: axis 1 คือ index หรือ row แต่ละ dataframes\n",
    "    minor_axis: axis 2 คือ column ของแต่ละ dataframes"
   ]
  },
  {
   "cell_type": "markdown",
   "metadata": {},
   "source": [
    "Example SERIES"
   ]
  },
  {
   "cell_type": "code",
   "execution_count": 1,
   "metadata": {},
   "outputs": [
    {
     "data": {
      "text/plain": [
       "0      12\n",
       "1    13.5\n",
       "2      tt\n",
       "dtype: object"
      ]
     },
     "execution_count": 1,
     "metadata": {},
     "output_type": "execute_result"
    }
   ],
   "source": [
    "import pandas as pd\n",
    "dataPD = pd.Series([12,13.5,\"tt\"]) # pd.series((12,13.5,\"tt\"))\n",
    "dataPD"
   ]
  },
  {
   "cell_type": "markdown",
   "metadata": {},
   "source": [
    "numpy รวมร่างกับ series"
   ]
  },
  {
   "cell_type": "code",
   "execution_count": 2,
   "metadata": {},
   "outputs": [
    {
     "data": {
      "text/plain": [
       "0    1\n",
       "1    2\n",
       "2    3\n",
       "dtype: int32"
      ]
     },
     "execution_count": 2,
     "metadata": {},
     "output_type": "execute_result"
    }
   ],
   "source": [
    "import numpy as np\n",
    "dataNP = np.array([1,2,3])\n",
    "dataPDwNP = pd.Series(dataNP)\n",
    "dataPDwNP"
   ]
  },
  {
   "cell_type": "markdown",
   "metadata": {},
   "source": [
    "กำหนด index ของ series เอง"
   ]
  },
  {
   "cell_type": "code",
   "execution_count": 3,
   "metadata": {},
   "outputs": [
    {
     "data": {
      "text/plain": [
       "เลข      12\n",
       "2      13.5\n",
       "3        tt\n",
       "dtype: object"
      ]
     },
     "execution_count": 3,
     "metadata": {},
     "output_type": "execute_result"
    }
   ],
   "source": [
    "indexPD = pd.Series([12,13.5,\"tt\"],index=[\"เลข\",2,3])\n",
    "indexPD"
   ]
  },
  {
   "cell_type": "raw",
   "metadata": {},
   "source": [
    "ใช้ dictionary ใส่ series โดย key จะแทน index ส่วน value แทน data ใน column\n",
    "\n",
    "การเรียกใช้ series แทนได้ 2 แบบ\n",
    "    1).ใช้ index\n",
    "    2).ใช้ชื่อ index"
   ]
  },
  {
   "cell_type": "code",
   "execution_count": 4,
   "metadata": {},
   "outputs": [
    {
     "name": "stdout",
     "output_type": "stream",
     "text": [
      "มนัญชัย\n"
     ]
    },
    {
     "data": {
      "text/plain": [
       "'มนัญชัย'"
      ]
     },
     "execution_count": 4,
     "metadata": {},
     "output_type": "execute_result"
    }
   ],
   "source": [
    "dataDic = {\"name\":\"มนัญชัย\",\"อายุ\":22}\n",
    "dataPDwDIC = pd.Series(dataDic)\n",
    "print(dataPDwDIC[0])\n",
    "dataPDwDIC[\"name\"]"
   ]
  },
  {
   "cell_type": "raw",
   "metadata": {},
   "source": [
    "ใช้ slice ในการใช้ข้อมูล หลักการ ตั่งแต่ ไม่เกิน"
   ]
  },
  {
   "cell_type": "code",
   "execution_count": 5,
   "metadata": {},
   "outputs": [
    {
     "data": {
      "text/plain": [
       "อายุ    22\n",
       "dtype: object"
      ]
     },
     "execution_count": 5,
     "metadata": {},
     "output_type": "execute_result"
    }
   ],
   "source": [
    "dataPDwDIC[1:len(dataPDwDIC)]"
   ]
  },
  {
   "cell_type": "markdown",
   "metadata": {},
   "source": [
    "Example DATAFRAME"
   ]
  },
  {
   "cell_type": "raw",
   "metadata": {},
   "source": [
    "รู้จัก zip คือการ รวม list"
   ]
  },
  {
   "cell_type": "code",
   "execution_count": 6,
   "metadata": {},
   "outputs": [
    {
     "data": {
      "text/html": [
       "<div>\n",
       "<style scoped>\n",
       "    .dataframe tbody tr th:only-of-type {\n",
       "        vertical-align: middle;\n",
       "    }\n",
       "\n",
       "    .dataframe tbody tr th {\n",
       "        vertical-align: top;\n",
       "    }\n",
       "\n",
       "    .dataframe thead th {\n",
       "        text-align: right;\n",
       "    }\n",
       "</style>\n",
       "<table border=\"1\" class=\"dataframe\">\n",
       "  <thead>\n",
       "    <tr style=\"text-align: right;\">\n",
       "      <th></th>\n",
       "      <th>ชื่อ</th>\n",
       "      <th>อายุ</th>\n",
       "    </tr>\n",
       "  </thead>\n",
       "  <tbody>\n",
       "    <tr>\n",
       "      <th>0</th>\n",
       "      <td>boat</td>\n",
       "      <td>12</td>\n",
       "    </tr>\n",
       "    <tr>\n",
       "      <th>1</th>\n",
       "      <td>jame</td>\n",
       "      <td>14</td>\n",
       "    </tr>\n",
       "    <tr>\n",
       "      <th>2</th>\n",
       "      <td>ton</td>\n",
       "      <td>16</td>\n",
       "    </tr>\n",
       "  </tbody>\n",
       "</table>\n",
       "</div>"
      ],
      "text/plain": [
       "   ชื่อ  อายุ\n",
       "0  boat    12\n",
       "1  jame    14\n",
       "2   ton    16"
      ]
     },
     "execution_count": 6,
     "metadata": {},
     "output_type": "execute_result"
    }
   ],
   "source": [
    "age = [12,14,16]\n",
    "name = [\"boat\",\"jame\",\"ton\"]\n",
    "keyW = [\"ชื่อ\",\"อายุ\"]\n",
    "dataFRAME = pd.DataFrame(zip(name,age),columns=keyW)\n",
    "dataFRAME"
   ]
  },
  {
   "cell_type": "raw",
   "metadata": {},
   "source": [
    "นำ series ของ dataframe มาแสดง index ข้างหน้า"
   ]
  },
  {
   "cell_type": "code",
   "execution_count": 7,
   "metadata": {},
   "outputs": [
    {
     "data": {
      "text/html": [
       "<div>\n",
       "<style scoped>\n",
       "    .dataframe tbody tr th:only-of-type {\n",
       "        vertical-align: middle;\n",
       "    }\n",
       "\n",
       "    .dataframe tbody tr th {\n",
       "        vertical-align: top;\n",
       "    }\n",
       "\n",
       "    .dataframe thead th {\n",
       "        text-align: right;\n",
       "    }\n",
       "</style>\n",
       "<table border=\"1\" class=\"dataframe\">\n",
       "  <thead>\n",
       "    <tr style=\"text-align: right;\">\n",
       "      <th></th>\n",
       "      <th>อายุ</th>\n",
       "    </tr>\n",
       "    <tr>\n",
       "      <th>ชื่อ</th>\n",
       "      <th></th>\n",
       "    </tr>\n",
       "  </thead>\n",
       "  <tbody>\n",
       "    <tr>\n",
       "      <th>boat</th>\n",
       "      <td>12</td>\n",
       "    </tr>\n",
       "    <tr>\n",
       "      <th>jame</th>\n",
       "      <td>14</td>\n",
       "    </tr>\n",
       "    <tr>\n",
       "      <th>ton</th>\n",
       "      <td>16</td>\n",
       "    </tr>\n",
       "  </tbody>\n",
       "</table>\n",
       "</div>"
      ],
      "text/plain": [
       "      อายุ\n",
       "ชื่อ      \n",
       "boat    12\n",
       "jame    14\n",
       "ton     16"
      ]
     },
     "execution_count": 7,
     "metadata": {},
     "output_type": "execute_result"
    }
   ],
   "source": [
    "dataFRAME.set_index(['ชื่อ'],inplace=True)\n",
    "dataFRAME"
   ]
  },
  {
   "cell_type": "raw",
   "metadata": {},
   "source": [
    "การใช้ dictionary สร้าง dataframes"
   ]
  },
  {
   "cell_type": "code",
   "execution_count": 8,
   "metadata": {},
   "outputs": [
    {
     "data": {
      "text/html": [
       "<div>\n",
       "<style scoped>\n",
       "    .dataframe tbody tr th:only-of-type {\n",
       "        vertical-align: middle;\n",
       "    }\n",
       "\n",
       "    .dataframe tbody tr th {\n",
       "        vertical-align: top;\n",
       "    }\n",
       "\n",
       "    .dataframe thead th {\n",
       "        text-align: right;\n",
       "    }\n",
       "</style>\n",
       "<table border=\"1\" class=\"dataframe\">\n",
       "  <thead>\n",
       "    <tr style=\"text-align: right;\">\n",
       "      <th></th>\n",
       "      <th>name</th>\n",
       "      <th>age</th>\n",
       "    </tr>\n",
       "  </thead>\n",
       "  <tbody>\n",
       "    <tr>\n",
       "      <th>0</th>\n",
       "      <td>โจ้วๆ</td>\n",
       "      <td>17</td>\n",
       "    </tr>\n",
       "    <tr>\n",
       "      <th>1</th>\n",
       "      <td>โจ้วๆ</td>\n",
       "      <td>17</td>\n",
       "    </tr>\n",
       "    <tr>\n",
       "      <th>2</th>\n",
       "      <td>โจ้วๆ</td>\n",
       "      <td>17</td>\n",
       "    </tr>\n",
       "    <tr>\n",
       "      <th>3</th>\n",
       "      <td>โจ้วๆ</td>\n",
       "      <td>17</td>\n",
       "    </tr>\n",
       "  </tbody>\n",
       "</table>\n",
       "</div>"
      ],
      "text/plain": [
       "    name  age\n",
       "0  โจ้วๆ   17\n",
       "1  โจ้วๆ   17\n",
       "2  โจ้วๆ   17\n",
       "3  โจ้วๆ   17"
      ]
     },
     "execution_count": 8,
     "metadata": {},
     "output_type": "execute_result"
    }
   ],
   "source": [
    "dc = [{'name':'โจ้วๆ','age':17},\n",
    "     {'name':'โจ้วๆ','age':17},\n",
    "     {'name':'โจ้วๆ','age':17},\n",
    "     {'name':'โจ้วๆ','age':17},]\n",
    "dataFwDC = pd.DataFrame(dc)\n",
    "dataFwDC"
   ]
  },
  {
   "cell_type": "raw",
   "metadata": {},
   "source": [
    "นำ series สร้าง dataframes"
   ]
  },
  {
   "cell_type": "code",
   "execution_count": 9,
   "metadata": {},
   "outputs": [
    {
     "data": {
      "text/html": [
       "<div>\n",
       "<style scoped>\n",
       "    .dataframe tbody tr th:only-of-type {\n",
       "        vertical-align: middle;\n",
       "    }\n",
       "\n",
       "    .dataframe tbody tr th {\n",
       "        vertical-align: top;\n",
       "    }\n",
       "\n",
       "    .dataframe thead th {\n",
       "        text-align: right;\n",
       "    }\n",
       "</style>\n",
       "<table border=\"1\" class=\"dataframe\">\n",
       "  <thead>\n",
       "    <tr style=\"text-align: right;\">\n",
       "      <th></th>\n",
       "      <th>Name</th>\n",
       "      <th>Age</th>\n",
       "    </tr>\n",
       "  </thead>\n",
       "  <tbody>\n",
       "    <tr>\n",
       "      <th>0</th>\n",
       "      <td>ไอจอน</td>\n",
       "      <td>18</td>\n",
       "    </tr>\n",
       "    <tr>\n",
       "      <th>1</th>\n",
       "      <td>ไอดิน</td>\n",
       "      <td>23</td>\n",
       "    </tr>\n",
       "  </tbody>\n",
       "</table>\n",
       "</div>"
      ],
      "text/plain": [
       "    Name  Age\n",
       "0  ไอจอน   18\n",
       "1  ไอดิน   23"
      ]
     },
     "execution_count": 9,
     "metadata": {},
     "output_type": "execute_result"
    }
   ],
   "source": [
    "name_series = pd.Series(['ไอจอน','ไอดิน'])\n",
    "age_series = pd.Series([18,23])\n",
    "frame = {'Name':name_series,\n",
    "         'Age':age_series}\n",
    "dataFwS_to_Dic = pd.DataFrame(frame)\n",
    "dataFwS_to_Dic"
   ]
  },
  {
   "cell_type": "markdown",
   "metadata": {},
   "source": [
    "ทำ series เป็น dataframe แล้วตั่งชื่อ"
   ]
  },
  {
   "cell_type": "code",
   "execution_count": 19,
   "metadata": {},
   "outputs": [
    {
     "data": {
      "text/html": [
       "<div>\n",
       "<style scoped>\n",
       "    .dataframe tbody tr th:only-of-type {\n",
       "        vertical-align: middle;\n",
       "    }\n",
       "\n",
       "    .dataframe tbody tr th {\n",
       "        vertical-align: top;\n",
       "    }\n",
       "\n",
       "    .dataframe thead th {\n",
       "        text-align: right;\n",
       "    }\n",
       "</style>\n",
       "<table border=\"1\" class=\"dataframe\">\n",
       "  <thead>\n",
       "    <tr style=\"text-align: right;\">\n",
       "      <th></th>\n",
       "      <th>StudentName</th>\n",
       "    </tr>\n",
       "  </thead>\n",
       "  <tbody>\n",
       "    <tr>\n",
       "      <th>0</th>\n",
       "      <td>ไอจอน</td>\n",
       "    </tr>\n",
       "    <tr>\n",
       "      <th>1</th>\n",
       "      <td>ไอดิน</td>\n",
       "    </tr>\n",
       "  </tbody>\n",
       "</table>\n",
       "</div>"
      ],
      "text/plain": [
       "  StudentName\n",
       "0       ไอจอน\n",
       "1       ไอดิน"
      ]
     },
     "execution_count": 19,
     "metadata": {},
     "output_type": "execute_result"
    }
   ],
   "source": [
    "df = name_series.to_frame()\n",
    "df = name_series.to_frame(name='StudentName')\n",
    "df"
   ]
  },
  {
   "cell_type": "code",
   "execution_count": null,
   "metadata": {},
   "outputs": [],
   "source": [
    "dataframe to csv คั่นด้วย ,\n",
    "\n",
    "parameter: header T/F หัวข้อบรรทัดแรก,index T/F เลขข้างหน้า,index_label กำกับหัว index"
   ]
  },
  {
   "cell_type": "code",
   "execution_count": 30,
   "metadata": {},
   "outputs": [],
   "source": [
    "filepath = 'data/mydata01.csv'\n",
    "df.to_csv(filepath)"
   ]
  },
  {
   "cell_type": "code",
   "execution_count": 24,
   "metadata": {},
   "outputs": [],
   "source": [
    "df.to_csv(filepath, index_label='id')"
   ]
  },
  {
   "cell_type": "code",
   "execution_count": 25,
   "metadata": {},
   "outputs": [],
   "source": [
    "df.to_csv(filepath, index = False)"
   ]
  },
  {
   "cell_type": "code",
   "execution_count": 32,
   "metadata": {},
   "outputs": [],
   "source": [
    "df.to_csv(filepath, index=False,header=False)"
   ]
  },
  {
   "cell_type": "markdown",
   "metadata": {},
   "source": [
    "ใช้ csv เร็วกว่า excel ถ้าข้อมูลเยอะ"
   ]
  },
  {
   "cell_type": "raw",
   "metadata": {},
   "source": [
    "**ติดตั่ง lib บันทึก excel conda install openpyxl"
   ]
  },
  {
   "cell_type": "code",
   "execution_count": 33,
   "metadata": {},
   "outputs": [],
   "source": [
    "filepath = 'data/myfile.xlsx'\n",
    "writer = pd.ExcelWriter(filepath)\n",
    "dataFwS_to_Dic.to_excel(writer, 'Sheet1', index=False)\n",
    "writer.save()"
   ]
  },
  {
   "cell_type": "markdown",
   "metadata": {},
   "source": [
    "csv เอาบาง column"
   ]
  },
  {
   "cell_type": "code",
   "execution_count": 36,
   "metadata": {},
   "outputs": [],
   "source": [
    "url = 'data/myfile.xlsx' #เอาจากเว็บได้\n",
    "dfColumn = pd.read_excel(url)\n",
    "cols = ['Age']\n",
    "dfColumn.to_csv('data/dfColumn.csv', index=False, columns=cols)"
   ]
  },
  {
   "cell_type": "markdown",
   "metadata": {},
   "source": [
    "จาก pd.read_excel(path)  อ่านไฟล์ทั้งหมดทุก column"
   ]
  },
  {
   "cell_type": "code",
   "execution_count": 37,
   "metadata": {},
   "outputs": [
    {
     "data": {
      "text/html": [
       "<div>\n",
       "<style scoped>\n",
       "    .dataframe tbody tr th:only-of-type {\n",
       "        vertical-align: middle;\n",
       "    }\n",
       "\n",
       "    .dataframe tbody tr th {\n",
       "        vertical-align: top;\n",
       "    }\n",
       "\n",
       "    .dataframe thead th {\n",
       "        text-align: right;\n",
       "    }\n",
       "</style>\n",
       "<table border=\"1\" class=\"dataframe\">\n",
       "  <thead>\n",
       "    <tr style=\"text-align: right;\">\n",
       "      <th></th>\n",
       "      <th>Name</th>\n",
       "      <th>Age</th>\n",
       "    </tr>\n",
       "  </thead>\n",
       "  <tbody>\n",
       "    <tr>\n",
       "      <th>0</th>\n",
       "      <td>ไอจอน</td>\n",
       "      <td>18</td>\n",
       "    </tr>\n",
       "    <tr>\n",
       "      <th>1</th>\n",
       "      <td>ไอดิน</td>\n",
       "      <td>โย่วๆ</td>\n",
       "    </tr>\n",
       "  </tbody>\n",
       "</table>\n",
       "</div>"
      ],
      "text/plain": [
       "    Name    Age\n",
       "0  ไอจอน     18\n",
       "1  ไอดิน  โย่วๆ"
      ]
     },
     "execution_count": 37,
     "metadata": {},
     "output_type": "execute_result"
    }
   ],
   "source": [
    "dfColumn"
   ]
  },
  {
   "cell_type": "code",
   "execution_count": 40,
   "metadata": {},
   "outputs": [
    {
     "data": {
      "text/html": [
       "<div>\n",
       "<style scoped>\n",
       "    .dataframe tbody tr th:only-of-type {\n",
       "        vertical-align: middle;\n",
       "    }\n",
       "\n",
       "    .dataframe tbody tr th {\n",
       "        vertical-align: top;\n",
       "    }\n",
       "\n",
       "    .dataframe thead th {\n",
       "        text-align: right;\n",
       "    }\n",
       "</style>\n",
       "<table border=\"1\" class=\"dataframe\">\n",
       "  <thead>\n",
       "    <tr style=\"text-align: right;\">\n",
       "      <th></th>\n",
       "      <th>Name</th>\n",
       "    </tr>\n",
       "    <tr>\n",
       "      <th>Age</th>\n",
       "      <th></th>\n",
       "    </tr>\n",
       "  </thead>\n",
       "  <tbody>\n",
       "    <tr>\n",
       "      <th>18</th>\n",
       "      <td>ไอจอน</td>\n",
       "    </tr>\n",
       "    <tr>\n",
       "      <th>โย่วๆ</th>\n",
       "      <td>ไอดิน</td>\n",
       "    </tr>\n",
       "  </tbody>\n",
       "</table>\n",
       "</div>"
      ],
      "text/plain": [
       "        Name\n",
       "Age         \n",
       "18     ไอจอน\n",
       "โย่วๆ  ไอดิน"
      ]
     },
     "execution_count": 40,
     "metadata": {},
     "output_type": "execute_result"
    }
   ],
   "source": [
    "dfColumn = pd.read_excel(url, index_col='Age') # กำหนดชื่อ index\n",
    "dfColumn"
   ]
  },
  {
   "cell_type": "markdown",
   "metadata": {},
   "source": [
    "ใช้ dfColumn.head() , dfColumn.tail() เพื่อดูต้นแถว 5ตัว หรือ ท้ายแถว 5ตัวได้"
   ]
  },
  {
   "cell_type": "raw",
   "metadata": {},
   "source": [
    "สมมุติ\n",
    "df = pd.read_excel(url,sheet_name='My...', usecols=[0,2,3]หรือ'a,c:d', header=3, index_col='Name') # ใส่ names = data list เพื่อเปลี่ยนชื่อ column\n",
    "sheet_name คือเอา sheet ไหน ,usecols คือ เลือก column ที่จะใช้ , header คือ ข้ามแถว , index_col คือ ตั่งชื่อ index ตรง column\n",
    "df.loc['...'] # [ใส่ชื่อ data of column]\n",
    "df.sort_index() # sort ตัว index"
   ]
  },
  {
   "cell_type": "raw",
   "metadata": {},
   "source": [
    "df.Column หรือ df.Column ได้ data โดยเหมือน javascript array เลย"
   ]
  },
  {
   "cell_type": "raw",
   "metadata": {},
   "source": [
    "tip. เวลา to_excel ถ้าไม่มีหัว header ให้ระบุ แล้วใส่ names = data list เพื่อเติม column"
   ]
  },
  {
   "cell_type": "raw",
   "metadata": {},
   "source": [
    "อ่านไฟล์ csv\n",
    "df = pd.read_csv(url, encoding='utf-8')\n",
    "กำหนด index_col\n",
    "df = pd.read_csv(url, index_col='Name')\n",
    "อ่านข้อมูลบางแถว\n",
    "df ..... ใช้ usecols= list\n",
    "อ่านไฟล์ไม่มี header\n",
    "df ...... header=None,names= datalist คือเพิ่มหัว column มา , index_col='...' กำหนด column ที่จะเป็น index"
   ]
  },
  {
   "cell_type": "raw",
   "metadata": {},
   "source": [
    "ตรวจสอบข้อมูล\n",
    "DataFrame.head(10) แถวบน 10ตัว\n",
    "DataFrame.sampple(n) สุ่ม\n",
    "DataFrame.describe() ดูสถิติเบื่องต้น...\n",
    "DataFrame.shape() ดู row and column"
   ]
  }
 ],
 "metadata": {
  "kernelspec": {
   "display_name": "Python 3",
   "language": "python",
   "name": "python3"
  },
  "language_info": {
   "codemirror_mode": {
    "name": "ipython",
    "version": 3
   },
   "file_extension": ".py",
   "mimetype": "text/x-python",
   "name": "python",
   "nbconvert_exporter": "python",
   "pygments_lexer": "ipython3",
   "version": "3.8.5"
  }
 },
 "nbformat": 4,
 "nbformat_minor": 4
}
