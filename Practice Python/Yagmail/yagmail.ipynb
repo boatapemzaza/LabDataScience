{
 "cells": [
  {
   "cell_type": "code",
   "execution_count": 1,
   "metadata": {},
   "outputs": [
    {
     "name": "stdout",
     "output_type": "stream",
     "text": [
      "Collecting yagmail\n",
      "  Downloading yagmail-0.14.245-py2.py3-none-any.whl (15 kB)\n",
      "Collecting premailer\n",
      "  Downloading premailer-3.7.0-py2.py3-none-any.whl (18 kB)\n",
      "Collecting cssutils\n",
      "  Downloading cssutils-1.0.2-py3-none-any.whl (406 kB)\n",
      "Collecting cachetools\n",
      "  Downloading cachetools-4.2.1-py3-none-any.whl (12 kB)\n",
      "Collecting cssselect\n",
      "  Downloading cssselect-1.1.0-py2.py3-none-any.whl (16 kB)\n",
      "Requirement already satisfied: lxml in c:\\users\\boat0\\anaconda3\\lib\\site-packages (from premailer->yagmail) (4.6.1)\n",
      "Requirement already satisfied: requests in c:\\users\\boat0\\anaconda3\\lib\\site-packages (from premailer->yagmail) (2.24.0)\n",
      "Requirement already satisfied: certifi>=2017.4.17 in c:\\users\\boat0\\anaconda3\\lib\\site-packages (from requests->premailer->yagmail) (2020.6.20)\n",
      "Requirement already satisfied: urllib3!=1.25.0,!=1.25.1,<1.26,>=1.21.1 in c:\\users\\boat0\\anaconda3\\lib\\site-packages (from requests->premailer->yagmail) (1.25.11)\n",
      "Requirement already satisfied: chardet<4,>=3.0.2 in c:\\users\\boat0\\anaconda3\\lib\\site-packages (from requests->premailer->yagmail) (3.0.4)\n",
      "Requirement already satisfied: idna<3,>=2.5 in c:\\users\\boat0\\anaconda3\\lib\\site-packages (from requests->premailer->yagmail) (2.10)\n",
      "Installing collected packages: cssutils, cachetools, cssselect, premailer, yagmail\n",
      "Successfully installed cachetools-4.2.1 cssselect-1.1.0 cssutils-1.0.2 premailer-3.7.0 yagmail-0.14.245\n"
     ]
    }
   ],
   "source": [
    "!pip install yagmail"
   ]
  },
  {
   "cell_type": "code",
   "execution_count": 2,
   "metadata": {},
   "outputs": [],
   "source": [
    "import yagmail"
   ]
  },
  {
   "cell_type": "markdown",
   "metadata": {},
   "source": [
    "login with SMTP()"
   ]
  },
  {
   "cell_type": "markdown",
   "metadata": {},
   "source": [
    "อ้างอิงจาก ชื่อ"
   ]
  },
  {
   "cell_type": "code",
   "execution_count": 5,
   "metadata": {},
   "outputs": [],
   "source": [
    "yag = yagmail.SMTP(user='Methakorn.run@mail.pbru.ac.th',password='jozaza00123')"
   ]
  },
  {
   "cell_type": "markdown",
   "metadata": {},
   "source": [
    "อ้างอิงจากตำแหน่ง"
   ]
  },
  {
   "cell_type": "code",
   "execution_count": 6,
   "metadata": {},
   "outputs": [],
   "source": [
    "yag = yagmail.SMTP('Methakorn.run@mail.pbru.ac.th','jozaza00123')"
   ]
  },
  {
   "cell_type": "markdown",
   "metadata": {},
   "source": [
    "กำหนดผู้รับ"
   ]
  },
  {
   "cell_type": "code",
   "execution_count": 7,
   "metadata": {},
   "outputs": [],
   "source": [
    "receiver = 'boat09505@gmail.com'"
   ]
  },
  {
   "cell_type": "markdown",
   "metadata": {},
   "source": [
    "เนื้อหาจดหมาย"
   ]
  },
  {
   "cell_type": "code",
   "execution_count": 11,
   "metadata": {},
   "outputs": [],
   "source": [
    "subjects = 'READ!'"
   ]
  },
  {
   "cell_type": "code",
   "execution_count": 9,
   "metadata": {},
   "outputs": [],
   "source": [
    "body = 'Hello I need your password'"
   ]
  },
  {
   "cell_type": "markdown",
   "metadata": {},
   "source": [
    "แนบรูปด้วย .inline()"
   ]
  },
  {
   "cell_type": "code",
   "execution_count": 18,
   "metadata": {},
   "outputs": [],
   "source": [
    "body_pic = yagmail.inline(r'C:\\Users\\boat0\\AnacondaDataScient\\Practice Python\\Yagmail\\mine.jpg')"
   ]
  },
  {
   "cell_type": "markdown",
   "metadata": {},
   "source": [
    "ส่งเมลล์"
   ]
  },
  {
   "cell_type": "code",
   "execution_count": 21,
   "metadata": {},
   "outputs": [
    {
     "data": {
      "text/plain": [
       "{}"
      ]
     },
     "execution_count": 21,
     "metadata": {},
     "output_type": "execute_result"
    }
   ],
   "source": [
    "yag.send(\n",
    "    to = receiver,\n",
    "    subject = subjects,\n",
    "    contents = [body, body_pic],\n",
    "    attachments = [r'C:\\Users\\boat0\\AnacondaDataScient\\Practice Python\\Yagmail\\mine.jpg']\n",
    ")"
   ]
  }
 ],
 "metadata": {
  "kernelspec": {
   "display_name": "Python 3",
   "language": "python",
   "name": "python3"
  },
  "language_info": {
   "codemirror_mode": {
    "name": "ipython",
    "version": 3
   },
   "file_extension": ".py",
   "mimetype": "text/x-python",
   "name": "python",
   "nbconvert_exporter": "python",
   "pygments_lexer": "ipython3",
   "version": "3.8.5"
  }
 },
 "nbformat": 4,
 "nbformat_minor": 4
}
