{
 "cells": [
  {
   "cell_type": "code",
   "execution_count": 1,
   "metadata": {},
   "outputs": [
    {
     "name": "stdout",
     "output_type": "stream",
     "text": [
      "Collecting python-docx\n",
      "  Downloading python-docx-0.8.10.tar.gz (5.5 MB)\n",
      "Requirement already satisfied: lxml>=2.3.2 in c:\\users\\boat0\\anaconda3\\lib\\site-packages (from python-docx) (4.6.1)\n",
      "Building wheels for collected packages: python-docx\n",
      "  Building wheel for python-docx (setup.py): started\n",
      "  Building wheel for python-docx (setup.py): finished with status 'done'\n",
      "  Created wheel for python-docx: filename=python_docx-0.8.10-py3-none-any.whl size=184495 sha256=d0da89bb5c5b96661584dfb10520e10e0ec51b4728005ef9f87953cc53994c83\n",
      "  Stored in directory: c:\\users\\boat0\\appdata\\local\\pip\\cache\\wheels\\97\\4c\\2e\\68066cbf12b9b2e66403da8982aaf4f656d9f5cb5dc3179e82\n",
      "Successfully built python-docx\n",
      "Installing collected packages: python-docx\n",
      "Successfully installed python-docx-0.8.10\n"
     ]
    }
   ],
   "source": [
    "!pip install python-docx"
   ]
  },
  {
   "cell_type": "code",
   "execution_count": 2,
   "metadata": {},
   "outputs": [],
   "source": [
    "from docx import Document"
   ]
  },
  {
   "cell_type": "markdown",
   "metadata": {},
   "source": [
    "ถ้าอยากแก้ไรให้ใส่เป็น table, paragraph แต่ถ้าอันไหนไม่อย่าแก้ใส่ใน textbox"
   ]
  },
  {
   "cell_type": "markdown",
   "metadata": {},
   "source": [
    "เปิดไฟล์"
   ]
  },
  {
   "cell_type": "code",
   "execution_count": 3,
   "metadata": {},
   "outputs": [],
   "source": [
    "doc = Document('invoice.docx')"
   ]
  },
  {
   "cell_type": "code",
   "execution_count": 4,
   "metadata": {},
   "outputs": [
    {
     "data": {
      "text/plain": [
       "<docx.document.Document at 0x1d4ead2afc0>"
      ]
     },
     "execution_count": 4,
     "metadata": {},
     "output_type": "execute_result"
    }
   ],
   "source": [
    "doc"
   ]
  },
  {
   "cell_type": "code",
   "execution_count": null,
   "metadata": {},
   "outputs": [],
   "source": [
    "อ่าน words ด้วย .tables[]"
   ]
  },
  {
   "cell_type": "code",
   "execution_count": 5,
   "metadata": {},
   "outputs": [
    {
     "data": {
      "text/plain": [
       "[<docx.table.Table at 0x1d4ecbcef40>, <docx.table.Table at 0x1d4ed9ca7c0>]"
      ]
     },
     "execution_count": 5,
     "metadata": {},
     "output_type": "execute_result"
    }
   ],
   "source": [
    "doc.tables #เรียงจากบนลงล่าง"
   ]
  },
  {
   "cell_type": "code",
   "execution_count": 6,
   "metadata": {},
   "outputs": [],
   "source": [
    "table = doc.tables[0]"
   ]
  },
  {
   "cell_type": "markdown",
   "metadata": {},
   "source": [
    "เลือก cell ที่จะทำงาน คือ ถ้าจะทำงานกับ table จะทำงานกับ cell โดย cell รับค่า 2 ค่า index ของ row กับ index ของ column"
   ]
  },
  {
   "cell_type": "code",
   "execution_count": 7,
   "metadata": {},
   "outputs": [
    {
     "data": {
      "text/plain": [
       "<docx.table._Cell at 0x1d4ed9cae50>"
      ]
     },
     "execution_count": 7,
     "metadata": {},
     "output_type": "execute_result"
    }
   ],
   "source": [
    "table.cell(0,0)"
   ]
  },
  {
   "cell_type": "code",
   "execution_count": 8,
   "metadata": {},
   "outputs": [
    {
     "data": {
      "text/plain": [
       "'\\nลูกค้า:\\nบริษัท ไพธอน จำกัด (สำนักงานใหญ่)\\n754 ถนนพระราม 9 แขวงสี่พระยา\\nเขตบางรัก กรุงเทพมหานคร 10500\\n'"
      ]
     },
     "execution_count": 8,
     "metadata": {},
     "output_type": "execute_result"
    }
   ],
   "source": [
    "table.cell(0,0).text"
   ]
  },
  {
   "cell_type": "code",
   "execution_count": 9,
   "metadata": {},
   "outputs": [
    {
     "data": {
      "text/plain": [
       "['',\n",
       " 'ลูกค้า:',\n",
       " 'บริษัท ไพธอน จำกัด (สำนักงานใหญ่)',\n",
       " '754 ถนนพระราม 9 แขวงสี่พระยา',\n",
       " 'เขตบางรัก กรุงเทพมหานคร 10500',\n",
       " '']"
      ]
     },
     "execution_count": 9,
     "metadata": {},
     "output_type": "execute_result"
    }
   ],
   "source": [
    "company_detail = table.cell(0,0).text.split('\\n')\n",
    "table.cell(0,0).text.split('\\n')"
   ]
  },
  {
   "cell_type": "code",
   "execution_count": 11,
   "metadata": {},
   "outputs": [],
   "source": [
    "company_detail[2] = 'บริษัท จุกกู้'"
   ]
  },
  {
   "cell_type": "code",
   "execution_count": 12,
   "metadata": {},
   "outputs": [
    {
     "data": {
      "text/plain": [
       "'\\nลูกค้า:\\nบริษัท จุกกู้\\n754 ถนนพระราม 9 แขวงสี่พระยา\\nเขตบางรัก กรุงเทพมหานคร 10500\\n'"
      ]
     },
     "execution_count": 12,
     "metadata": {},
     "output_type": "execute_result"
    }
   ],
   "source": [
    "'\\n'.join(company_detail)"
   ]
  },
  {
   "cell_type": "code",
   "execution_count": 13,
   "metadata": {},
   "outputs": [
    {
     "data": {
      "text/plain": [
       "'\\nลูกค้า:\\nบริษัท ไพธอน จำกัด (สำนักงานใหญ่)\\n754 ถนนพระราม 9 แขวงสี่พระยา\\nเขตบางรัก กรุงเทพมหานคร 10500\\n'"
      ]
     },
     "execution_count": 13,
     "metadata": {},
     "output_type": "execute_result"
    }
   ],
   "source": [
    "doc.tables[0].cell(0,0).text"
   ]
  },
  {
   "cell_type": "code",
   "execution_count": 14,
   "metadata": {},
   "outputs": [],
   "source": [
    "doc.tables[0].cell(0,0).text = '\\n'.join(company_detail)"
   ]
  },
  {
   "cell_type": "code",
   "execution_count": 16,
   "metadata": {},
   "outputs": [],
   "source": [
    "doc.save('test1.docx')"
   ]
  },
  {
   "cell_type": "markdown",
   "metadata": {},
   "source": [
    "ใส่ค่าใน paragraph"
   ]
  },
  {
   "cell_type": "code",
   "execution_count": 17,
   "metadata": {},
   "outputs": [
    {
     "data": {
      "text/plain": [
       "[<docx.text.paragraph.Paragraph at 0x1d4ece08d30>,\n",
       " <docx.text.paragraph.Paragraph at 0x1d4ece08ac0>,\n",
       " <docx.text.paragraph.Paragraph at 0x1d4ece08bb0>,\n",
       " <docx.text.paragraph.Paragraph at 0x1d4ecbce9a0>,\n",
       " <docx.text.paragraph.Paragraph at 0x1d4ecbceb80>,\n",
       " <docx.text.paragraph.Paragraph at 0x1d4ecbce910>,\n",
       " <docx.text.paragraph.Paragraph at 0x1d4ecbce8b0>,\n",
       " <docx.text.paragraph.Paragraph at 0x1d4ecb54d60>]"
      ]
     },
     "execution_count": 17,
     "metadata": {},
     "output_type": "execute_result"
    }
   ],
   "source": [
    "doc.paragraphs"
   ]
  },
  {
   "cell_type": "code",
   "execution_count": 19,
   "metadata": {},
   "outputs": [
    {
     "name": "stdout",
     "output_type": "stream",
     "text": [
      "0\n",
      "ใบเสร็จรับเงิน / ใบกำกับภาษี\n",
      "1\n",
      "(ต้นฉบับ)\n",
      "2\n",
      "\n",
      "3\n",
      "\n",
      "4\n",
      "\n",
      "5\n",
      "1,000.00 THB\n",
      "6\n",
      "70.00 THB\n",
      "7\n",
      "1,070 THB\n"
     ]
    }
   ],
   "source": [
    "x=0\n",
    "for p in doc.paragraphs:\n",
    "    print(x)\n",
    "    x+=1\n",
    "    print(p.text)"
   ]
  },
  {
   "cell_type": "markdown",
   "metadata": {},
   "source": [
    "enumerate ได้ object 2 อัน"
   ]
  },
  {
   "cell_type": "code",
   "execution_count": 21,
   "metadata": {},
   "outputs": [
    {
     "name": "stdout",
     "output_type": "stream",
     "text": [
      "0\n",
      "ใบเสร็จรับเงิน / ใบกำกับภาษี\n",
      "1\n",
      "(ต้นฉบับ)\n",
      "2\n",
      "\n",
      "3\n",
      "\n",
      "4\n",
      "\n",
      "5\n",
      "1,000.00 THB\n",
      "6\n",
      "70.00 THB\n",
      "7\n",
      "1,070 THB\n"
     ]
    }
   ],
   "source": [
    "for i,p in enumerate(doc.paragraphs):\n",
    "    print(i)\n",
    "    print(p.text)"
   ]
  },
  {
   "cell_type": "code",
   "execution_count": 22,
   "metadata": {},
   "outputs": [],
   "source": [
    "doc.paragraphs[5].text = '2,000 THB'"
   ]
  },
  {
   "cell_type": "code",
   "execution_count": 25,
   "metadata": {},
   "outputs": [],
   "source": [
    "doc.save('test.docx')"
   ]
  }
 ],
 "metadata": {
  "kernelspec": {
   "display_name": "Python 3",
   "language": "python",
   "name": "python3"
  },
  "language_info": {
   "codemirror_mode": {
    "name": "ipython",
    "version": 3
   },
   "file_extension": ".py",
   "mimetype": "text/x-python",
   "name": "python",
   "nbconvert_exporter": "python",
   "pygments_lexer": "ipython3",
   "version": "3.8.5"
  }
 },
 "nbformat": 4,
 "nbformat_minor": 4
}
