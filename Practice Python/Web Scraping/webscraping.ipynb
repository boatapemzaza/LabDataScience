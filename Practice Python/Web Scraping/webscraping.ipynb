{
 "cells": [
  {
   "cell_type": "code",
   "execution_count": null,
   "metadata": {},
   "outputs": [],
   "source": [
    "## 1) `requests` ใช้ส่ง url ## 2) `bs4` ใช้อ่านเวปที่ได้รับกลับมา"
   ]
  },
  {
   "cell_type": "code",
   "execution_count": 16,
   "metadata": {},
   "outputs": [],
   "source": [
    "import http.cookiejar\n",
    "import urllib.request\n",
    "import requests\n",
    "import bs4\n",
    "import numpy as np\n",
    "import pandas as pd"
   ]
  },
  {
   "cell_type": "code",
   "execution_count": 22,
   "metadata": {},
   "outputs": [
    {
     "name": "stderr",
     "output_type": "stream",
     "text": [
      "C:\\Users\\boat0\\anaconda3\\lib\\site-packages\\urllib3\\connectionpool.py:981: InsecureRequestWarning: Unverified HTTPS request is being made to host 'www.set.or.th'. Adding certificate verification is strongly advised. See: https://urllib3.readthedocs.io/en/latest/advanced-usage.html#ssl-warnings\n",
      "  warnings.warn(\n"
     ]
    }
   ],
   "source": [
    "parturl = 'https://www.set.or.th/set/commonslookup.do'\n",
    "url = parturl \n",
    "data = requests.get(url,verify=False) # ไปขอร้องเว็บ\n",
    "soup = bs4.BeautifulSoup(data.text, 'html.parser') # นำ data ที่เก็บคำสั่งข้อร้องไปเว็บทำการแสดง text แล้ว เก็บในรูปแบบ html ด้วย method BeautifulSoup"
   ]
  },
  {
   "cell_type": "markdown",
   "metadata": {},
   "source": [
    "soup"
   ]
  },
  {
   "cell_type": "markdown",
   "metadata": {},
   "source": [
    "ทำการ ค้นหา ป้ายชื่อ และใส่ attribute ไปด้วย"
   ]
  },
  {
   "cell_type": "markdown",
   "metadata": {},
   "source": [
    "soup.find_all('tr',valign='top')"
   ]
  },
  {
   "cell_type": "code",
   "execution_count": 24,
   "metadata": {},
   "outputs": [
    {
     "data": {
      "text/plain": [
       "<tr valign=\"top\">\n",
       "<td><a href=\"/set/companyprofile.do?symbol=A&amp;ssoPageId=4&amp;language=th&amp;country=TH\" target=\"\">A</a></td>\n",
       "<td>บริษัท อารียา พรอพเพอร์ตี้ จำกัด (มหาชน)</td>\n",
       "<td align=\"center\" style=\"text-align: center;\">SET</td>\n",
       "</tr>"
      ]
     },
     "execution_count": 24,
     "metadata": {},
     "output_type": "execute_result"
    }
   ],
   "source": [
    "soup.find_all('tr',valign='top')[0]"
   ]
  },
  {
   "cell_type": "code",
   "execution_count": 26,
   "metadata": {},
   "outputs": [
    {
     "data": {
      "text/plain": [
       "'\\nA\\nบริษัท อารียา พรอพเพอร์ตี้ จำกัด (มหาชน)\\nSET\\n'"
      ]
     },
     "execution_count": 26,
     "metadata": {},
     "output_type": "execute_result"
    }
   ],
   "source": [
    "soup.find_all('tr',valign='top')[0].get_text()"
   ]
  },
  {
   "cell_type": "code",
   "execution_count": 27,
   "metadata": {},
   "outputs": [
    {
     "data": {
      "text/plain": [
       "['', 'A', 'บริษัท อารียา พรอพเพอร์ตี้ จำกัด (มหาชน)', 'SET', '']"
      ]
     },
     "execution_count": 27,
     "metadata": {},
     "output_type": "execute_result"
    }
   ],
   "source": [
    "soup.find_all('tr',valign='top')[0].get_text().split('\\n')"
   ]
  },
  {
   "cell_type": "code",
   "execution_count": 28,
   "metadata": {},
   "outputs": [
    {
     "data": {
      "text/plain": [
       "'บริษัท อารียา พรอพเพอร์ตี้ จำกัด (มหาชน)'"
      ]
     },
     "execution_count": 28,
     "metadata": {},
     "output_type": "execute_result"
    }
   ],
   "source": [
    "soup.find_all('tr',valign='top')[0].get_text().split('\\n')[2]"
   ]
  },
  {
   "cell_type": "code",
   "execution_count": 30,
   "metadata": {},
   "outputs": [
    {
     "data": {
      "text/plain": [
       "['บริษัท อารียา พรอพเพอร์ตี้ จำกัด (มหาชน)',\n",
       " 'บริษัท แอสเซท ไฟว์ กรุ๊ป จำกัด (มหาชน)',\n",
       " 'บริษัท เอเชีย เอวิเอชั่น จำกัด (มหาชน)',\n",
       " 'บริษัท เอบิโก้ โฮลดิ้งส์ จำกัด (มหาชน)',\n",
       " 'บริษัท เอเชีย ไบโอแมส จำกัด (มหาชน)',\n",
       " 'กองทุนรวมโครงสร้างพื้นฐานโรงไฟฟ้า อมตะ บี.กริม เพาเวอร์',\n",
       " 'บริษัท เอเชีย แคปปิตอล กรุ๊ป จำกัด (มหาชน)',\n",
       " 'บริษัท แอดวานซ์ คอนเนคชั่น คอร์ปอเรชั่น จำกัด (มหาชน)',\n",
       " 'บริษัท แอ๊บโซลูท คลีน เอ็นเนอร์จี้ จำกัด (มหาชน)',\n",
       " 'บริษัท ออโตคอร์ป โฮลดิ้ง จำกัด (มหาชน)',\n",
       " 'บริษัท แอ็พพลาย ดีบี จำกัด (มหาชน)',\n",
       " 'บริษัท แอดวานซ์ อินโฟร์ เซอร์วิส จำกัด (มหาชน)',\n",
       " 'บริษัทหลักทรัพย์ เออีซี จำกัด (มหาชน)',\n",
       " 'บริษัท อิออน ธนสินทรัพย์ (ไทยแลนด์) จำกัด (มหาชน)',\n",
       " 'บริษัท ไอร่า แฟคตอริ่ง จำกัด (มหาชน)',\n",
       " 'บริษัท เอเซียไฟเบอร์ จำกัด (มหาชน)',\n",
       " 'บริษัท เอเชีย กรีน เอนเนอจี จำกัด (มหาชน)',\n",
       " 'บริษัท อาปิโก ไฮเทค จำกัด (มหาชน)',\n",
       " 'บริษัท โรงพยาบาลเอกชล จำกัด (มหาชน)',\n",
       " 'บริษัท เอเชียน อินซูเลเตอร์ จำกัด (มหาชน)',\n",
       " 'บริษัท เอไอ เอนเนอร์จี จำกัด (มหาชน)',\n",
       " 'ทรัสต์เพื่อการลงทุนในอสังหาริมทรัพย์และสิทธิการเช่าอสังหาริมทรัพย์ เอไอเอ็ม คอมเมอร์เชียล โกรท',\n",
       " 'ทรัสต์เพื่อการลงทุนในอสังหาริมทรัพย์และสิทธิการเช่าอสังหาริมทรัพย์ เอไอเอ็ม อินดัสเทรียล โกรท',\n",
       " 'บริษัท ไอร่า แคปปิตอล จำกัด (มหาชน)',\n",
       " 'บริษัท แอ็ดวานซ์ อินฟอร์เมชั่น เทคโนโลยี จำกัด (มหาชน)',\n",
       " 'บริษัท เอ.เจ.พลาสท์ จำกัด (มหาชน)',\n",
       " 'บริษัท เอเจ แอดวานซ์ เทคโนโลยี จำกัด (มหาชน)',\n",
       " 'บริษัท อัคคีปราการ จำกัด (มหาชน)',\n",
       " 'บริษัท เอกรัฐวิศวกรรม จำกัด (มหาชน)',\n",
       " 'บริษัท ออลล์ อินสไปร์ ดีเวลลอปเม้นท์ จำกัด (มหาชน)',\n",
       " 'บริษัท ออลล่า จำกัด (มหาชน)',\n",
       " 'บริษัท เอแอลที เทเลคอม จำกัด (มหาชน)',\n",
       " 'บริษัท อลูคอน จำกัด (มหาชน)',\n",
       " 'บริษัท อาม่า มารีน จำกัด (มหาชน)',\n",
       " 'บริษัท อะมานะฮ์ ลิสซิ่ง จำกัด (มหาชน)',\n",
       " 'บริษัท อมรินทร์พริ้นติ้ง แอนด์ พับลิชชิ่ง จำกัด (มหาชน)',\n",
       " 'บริษัท อมตะ คอร์ปอเรชัน จำกัด (มหาชน)',\n",
       " 'ทรัสต์เพื่อการลงทุนในอสังหาริมทรัพย์และสิทธิการเช่าอมตะซัมมิทโกรท',\n",
       " 'บริษัท อมตะ วีเอ็น จำกัด (มหาชน)',\n",
       " 'บริษัท เอเซีย เมทัล จำกัด (มหาชน)',\n",
       " 'บริษัท อนันดา ดีเวลลอปเม้นท์ จำกัด (มหาชน)',\n",
       " 'บริษัท ท่าอากาศยานไทย จำกัด (มหาชน)',\n",
       " 'บริษัท เอพี (ไทยแลนด์) จำกัด (มหาชน)',\n",
       " 'บริษัท เอเชียน ไฟย์โตซูติคอลส์ จำกัด (มหาชน)',\n",
       " 'บริษัท เอเซีย พรีซิชั่น จำกัด (มหาชน)',\n",
       " 'บริษัท เอเพ็กซ์ ดีเวลลอปเม้นท์ จำกัด (มหาชน)',\n",
       " 'บริษัท แอพพลิแคด จำกัด (มหาชน)',\n",
       " 'บริษัท อกริเพียว โฮลดิ้งส์ จำกัด (มหาชน)',\n",
       " 'บริษัท เอคิว เอสเตท จำกัด (มหาชน)',\n",
       " 'บริษัท อควา คอร์เปอเรชั่น จำกัด (มหาชน)',\n",
       " 'บริษัท อรินสิริ แลนด์ จำกัด (มหาชน)',\n",
       " 'บริษัท เออาร์ไอพี จำกัด (มหาชน)',\n",
       " 'บริษัท แอร์โรว์ ซินดิเคท จำกัด (มหาชน)',\n",
       " 'บริษัท เอเชียซอฟท์ คอร์ปอเรชั่น จำกัด (มหาชน)',\n",
       " 'บริษัท ซินเนอร์เจติค ออโต้ เพอร์ฟอร์มานซ์ จำกัด (มหาชน)',\n",
       " 'บริษัท อาซีฟา จำกัด (มหาชน)',\n",
       " 'บริษัท เอเชียโฮเต็ล จำกัด (มหาชน)',\n",
       " 'บริษัท เอเชี่ยนซี คอร์ปอเรชั่น จำกัด (มหาชน)',\n",
       " 'บริษัท เอเชียน มารีน เซอร์วิสส์ จำกัด (มหาชน)',\n",
       " 'บริษัท เอเซียเสริมกิจลีสซิ่ง จำกัด (มหาชน)',\n",
       " 'บริษัท เอเอสเอ็น โบรกเกอร์ จำกัด (มหาชน)',\n",
       " 'บริษัท เอเซีย พลัส กรุ๊ป โฮลดิ้งส์ จำกัด (มหาชน)',\n",
       " 'บริษัท เอทีพี 30 จำกัด (มหาชน)',\n",
       " 'บริษัท อาฟเตอร์ ยู จำกัด (มหาชน)',\n",
       " 'บริษัท สหการประมูล จำกัด (มหาชน)',\n",
       " 'บริษัท แอสเสท เวิรด์ คอร์ป จำกัด (มหาชน)',\n",
       " 'บริษัท อลิอันซ์ อยุธยา แคปปิตอล จำกัด (มหาชน)']"
      ]
     },
     "execution_count": 30,
     "metadata": {},
     "output_type": "execute_result"
    }
   ],
   "source": [
    "setList = []\n",
    "for tr in soup.find_all('tr',valign='top'):\n",
    "    setList.append(tr.get_text().split('\\n')[2])\n",
    "setList"
   ]
  },
  {
   "cell_type": "code",
   "execution_count": 32,
   "metadata": {},
   "outputs": [],
   "source": [
    "table = pd.DataFrame(setList)"
   ]
  },
  {
   "cell_type": "code",
   "execution_count": 34,
   "metadata": {},
   "outputs": [
    {
     "data": {
      "text/html": [
       "<div>\n",
       "<style scoped>\n",
       "    .dataframe tbody tr th:only-of-type {\n",
       "        vertical-align: middle;\n",
       "    }\n",
       "\n",
       "    .dataframe tbody tr th {\n",
       "        vertical-align: top;\n",
       "    }\n",
       "\n",
       "    .dataframe thead th {\n",
       "        text-align: right;\n",
       "    }\n",
       "</style>\n",
       "<table border=\"1\" class=\"dataframe\">\n",
       "  <thead>\n",
       "    <tr style=\"text-align: right;\">\n",
       "      <th></th>\n",
       "      <th>0</th>\n",
       "    </tr>\n",
       "  </thead>\n",
       "  <tbody>\n",
       "    <tr>\n",
       "      <th>0</th>\n",
       "      <td>บริษัท อารียา พรอพเพอร์ตี้ จำกัด (มหาชน)</td>\n",
       "    </tr>\n",
       "    <tr>\n",
       "      <th>1</th>\n",
       "      <td>บริษัท แอสเซท ไฟว์ กรุ๊ป จำกัด (มหาชน)</td>\n",
       "    </tr>\n",
       "    <tr>\n",
       "      <th>2</th>\n",
       "      <td>บริษัท เอเชีย เอวิเอชั่น จำกัด (มหาชน)</td>\n",
       "    </tr>\n",
       "    <tr>\n",
       "      <th>3</th>\n",
       "      <td>บริษัท เอบิโก้ โฮลดิ้งส์ จำกัด (มหาชน)</td>\n",
       "    </tr>\n",
       "    <tr>\n",
       "      <th>4</th>\n",
       "      <td>บริษัท เอเชีย ไบโอแมส จำกัด (มหาชน)</td>\n",
       "    </tr>\n",
       "    <tr>\n",
       "      <th>...</th>\n",
       "      <td>...</td>\n",
       "    </tr>\n",
       "    <tr>\n",
       "      <th>62</th>\n",
       "      <td>บริษัท เอทีพี 30 จำกัด (มหาชน)</td>\n",
       "    </tr>\n",
       "    <tr>\n",
       "      <th>63</th>\n",
       "      <td>บริษัท อาฟเตอร์ ยู จำกัด (มหาชน)</td>\n",
       "    </tr>\n",
       "    <tr>\n",
       "      <th>64</th>\n",
       "      <td>บริษัท สหการประมูล จำกัด (มหาชน)</td>\n",
       "    </tr>\n",
       "    <tr>\n",
       "      <th>65</th>\n",
       "      <td>บริษัท แอสเสท เวิรด์ คอร์ป จำกัด (มหาชน)</td>\n",
       "    </tr>\n",
       "    <tr>\n",
       "      <th>66</th>\n",
       "      <td>บริษัท อลิอันซ์ อยุธยา แคปปิตอล จำกัด (มหาชน)</td>\n",
       "    </tr>\n",
       "  </tbody>\n",
       "</table>\n",
       "<p>67 rows × 1 columns</p>\n",
       "</div>"
      ],
      "text/plain": [
       "                                                0\n",
       "0        บริษัท อารียา พรอพเพอร์ตี้ จำกัด (มหาชน)\n",
       "1          บริษัท แอสเซท ไฟว์ กรุ๊ป จำกัด (มหาชน)\n",
       "2          บริษัท เอเชีย เอวิเอชั่น จำกัด (มหาชน)\n",
       "3          บริษัท เอบิโก้ โฮลดิ้งส์ จำกัด (มหาชน)\n",
       "4             บริษัท เอเชีย ไบโอแมส จำกัด (มหาชน)\n",
       "..                                            ...\n",
       "62                 บริษัท เอทีพี 30 จำกัด (มหาชน)\n",
       "63               บริษัท อาฟเตอร์ ยู จำกัด (มหาชน)\n",
       "64               บริษัท สหการประมูล จำกัด (มหาชน)\n",
       "65       บริษัท แอสเสท เวิรด์ คอร์ป จำกัด (มหาชน)\n",
       "66  บริษัท อลิอันซ์ อยุธยา แคปปิตอล จำกัด (มหาชน)\n",
       "\n",
       "[67 rows x 1 columns]"
      ]
     },
     "execution_count": 34,
     "metadata": {},
     "output_type": "execute_result"
    }
   ],
   "source": [
    "table"
   ]
  },
  {
   "cell_type": "code",
   "execution_count": 33,
   "metadata": {},
   "outputs": [],
   "source": [
    "writer = pd.ExcelWriter('setList.xlsx')\n",
    "table.to_excel(writer,'Report')\n",
    "writer.save()"
   ]
  },
  {
   "cell_type": "code",
   "execution_count": 35,
   "metadata": {},
   "outputs": [
    {
     "data": {
      "text/plain": [
       "['A',\n",
       " 'A5',\n",
       " 'AAV',\n",
       " 'ABICO',\n",
       " 'ABM',\n",
       " 'ABPIF',\n",
       " 'ACAP',\n",
       " 'ACC',\n",
       " 'ACE',\n",
       " 'ACG',\n",
       " 'ADB',\n",
       " 'ADVANC',\n",
       " 'AEC',\n",
       " 'AEONTS',\n",
       " 'AF',\n",
       " 'AFC',\n",
       " 'AGE',\n",
       " 'AH',\n",
       " 'AHC',\n",
       " 'AI',\n",
       " 'AIE',\n",
       " 'AIMCG',\n",
       " 'AIMIRT',\n",
       " 'AIRA',\n",
       " 'AIT',\n",
       " 'AJ',\n",
       " 'AJA',\n",
       " 'AKP',\n",
       " 'AKR',\n",
       " 'ALL',\n",
       " 'ALLA',\n",
       " 'ALT',\n",
       " 'ALUCON',\n",
       " 'AMA',\n",
       " 'AMANAH',\n",
       " 'AMARIN',\n",
       " 'AMATA',\n",
       " 'AMATAR',\n",
       " 'AMATAV',\n",
       " 'AMC',\n",
       " 'ANAN',\n",
       " 'AOT',\n",
       " 'AP',\n",
       " 'APCO',\n",
       " 'APCS',\n",
       " 'APEX',\n",
       " 'APP',\n",
       " 'APURE',\n",
       " 'AQ',\n",
       " 'AQUA',\n",
       " 'ARIN',\n",
       " 'ARIP',\n",
       " 'ARROW',\n",
       " 'AS',\n",
       " 'ASAP',\n",
       " 'ASEFA',\n",
       " 'ASIA',\n",
       " 'ASIAN',\n",
       " 'ASIMAR',\n",
       " 'ASK',\n",
       " 'ASN',\n",
       " 'ASP',\n",
       " 'ATP30',\n",
       " 'AU',\n",
       " 'AUCT',\n",
       " 'AWC',\n",
       " 'AYUD']"
      ]
     },
     "execution_count": 35,
     "metadata": {},
     "output_type": "execute_result"
    }
   ],
   "source": [
    "titleList = []\n",
    "for tr in soup.find_all('tr',valign='top'):\n",
    "    titleList.append(tr.get_text().split('\\n')[1])\n",
    "titleList"
   ]
  },
  {
   "cell_type": "code",
   "execution_count": 38,
   "metadata": {},
   "outputs": [
    {
     "data": {
      "text/html": [
       "<div>\n",
       "<style scoped>\n",
       "    .dataframe tbody tr th:only-of-type {\n",
       "        vertical-align: middle;\n",
       "    }\n",
       "\n",
       "    .dataframe tbody tr th {\n",
       "        vertical-align: top;\n",
       "    }\n",
       "\n",
       "    .dataframe thead th {\n",
       "        text-align: right;\n",
       "    }\n",
       "</style>\n",
       "<table border=\"1\" class=\"dataframe\">\n",
       "  <thead>\n",
       "    <tr style=\"text-align: right;\">\n",
       "      <th></th>\n",
       "      <th>1</th>\n",
       "    </tr>\n",
       "    <tr>\n",
       "      <th>0</th>\n",
       "      <th></th>\n",
       "    </tr>\n",
       "  </thead>\n",
       "  <tbody>\n",
       "    <tr>\n",
       "      <th>บริษัท อารียา พรอพเพอร์ตี้ จำกัด (มหาชน)</th>\n",
       "      <td>A</td>\n",
       "    </tr>\n",
       "    <tr>\n",
       "      <th>บริษัท แอสเซท ไฟว์ กรุ๊ป จำกัด (มหาชน)</th>\n",
       "      <td>A5</td>\n",
       "    </tr>\n",
       "    <tr>\n",
       "      <th>บริษัท เอเชีย เอวิเอชั่น จำกัด (มหาชน)</th>\n",
       "      <td>AAV</td>\n",
       "    </tr>\n",
       "    <tr>\n",
       "      <th>บริษัท เอบิโก้ โฮลดิ้งส์ จำกัด (มหาชน)</th>\n",
       "      <td>ABICO</td>\n",
       "    </tr>\n",
       "    <tr>\n",
       "      <th>บริษัท เอเชีย ไบโอแมส จำกัด (มหาชน)</th>\n",
       "      <td>ABM</td>\n",
       "    </tr>\n",
       "    <tr>\n",
       "      <th>...</th>\n",
       "      <td>...</td>\n",
       "    </tr>\n",
       "    <tr>\n",
       "      <th>บริษัท เอทีพี 30 จำกัด (มหาชน)</th>\n",
       "      <td>ATP30</td>\n",
       "    </tr>\n",
       "    <tr>\n",
       "      <th>บริษัท อาฟเตอร์ ยู จำกัด (มหาชน)</th>\n",
       "      <td>AU</td>\n",
       "    </tr>\n",
       "    <tr>\n",
       "      <th>บริษัท สหการประมูล จำกัด (มหาชน)</th>\n",
       "      <td>AUCT</td>\n",
       "    </tr>\n",
       "    <tr>\n",
       "      <th>บริษัท แอสเสท เวิรด์ คอร์ป จำกัด (มหาชน)</th>\n",
       "      <td>AWC</td>\n",
       "    </tr>\n",
       "    <tr>\n",
       "      <th>บริษัท อลิอันซ์ อยุธยา แคปปิตอล จำกัด (มหาชน)</th>\n",
       "      <td>AYUD</td>\n",
       "    </tr>\n",
       "  </tbody>\n",
       "</table>\n",
       "<p>67 rows × 1 columns</p>\n",
       "</div>"
      ],
      "text/plain": [
       "                                                   1\n",
       "0                                                   \n",
       "บริษัท อารียา พรอพเพอร์ตี้ จำกัด (มหาชน)           A\n",
       "บริษัท แอสเซท ไฟว์ กรุ๊ป จำกัด (มหาชน)            A5\n",
       "บริษัท เอเชีย เอวิเอชั่น จำกัด (มหาชน)           AAV\n",
       "บริษัท เอบิโก้ โฮลดิ้งส์ จำกัด (มหาชน)         ABICO\n",
       "บริษัท เอเชีย ไบโอแมส จำกัด (มหาชน)              ABM\n",
       "...                                              ...\n",
       "บริษัท เอทีพี 30 จำกัด (มหาชน)                 ATP30\n",
       "บริษัท อาฟเตอร์ ยู จำกัด (มหาชน)                  AU\n",
       "บริษัท สหการประมูล จำกัด (มหาชน)                AUCT\n",
       "บริษัท แอสเสท เวิรด์ คอร์ป จำกัด (มหาชน)         AWC\n",
       "บริษัท อลิอันซ์ อยุธยา แคปปิตอล จำกัด (มหาชน)   AYUD\n",
       "\n",
       "[67 rows x 1 columns]"
      ]
     },
     "execution_count": 38,
     "metadata": {},
     "output_type": "execute_result"
    }
   ],
   "source": [
    "pd.DataFrame(data=[setList,titleList]).transpose().set_index(0)"
   ]
  },
  {
   "cell_type": "markdown",
   "metadata": {},
   "source": [
    "tip ถ้า find_all() แล้วทำกับ class มันจะขึ้นเขียวใช้ไม่ได้ ต้องเติม class_ ถึงจะใช้ได้\n",
    "ใช้ split()[] ได้ ex 1,600,000\n",
    "ใช้ split(,) จะได้ ['1','600','000']\n",
    "ใช้ ''.join('1,600,000'.split(',')) ได้ string มา แล้วเปลี่ยนเป็น textt ได้"
   ]
  },
  {
   "cell_type": "code",
   "execution_count": 39,
   "metadata": {},
   "outputs": [
    {
     "data": {
      "text/plain": [
       "'1600000'"
      ]
     },
     "execution_count": 39,
     "metadata": {},
     "output_type": "execute_result"
    }
   ],
   "source": [
    "''.join('1,600,000'.split(','))"
   ]
  },
  {
   "cell_type": "markdown",
   "metadata": {},
   "source": [
    "ถ้าใช้ find_all() หาได้ html มา แล้วยังหาไม่เจออีกใช้ .find('tag') ต่อได้"
   ]
  }
 ],
 "metadata": {
  "kernelspec": {
   "display_name": "Python 3",
   "language": "python",
   "name": "python3"
  },
  "language_info": {
   "codemirror_mode": {
    "name": "ipython",
    "version": 3
   },
   "file_extension": ".py",
   "mimetype": "text/x-python",
   "name": "python",
   "nbconvert_exporter": "python",
   "pygments_lexer": "ipython3",
   "version": "3.8.5"
  }
 },
 "nbformat": 4,
 "nbformat_minor": 4
}
