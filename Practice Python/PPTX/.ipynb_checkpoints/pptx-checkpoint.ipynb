{
 "cells": [
  {
   "cell_type": "code",
   "execution_count": 1,
   "metadata": {},
   "outputs": [
    {
     "name": "stdout",
     "output_type": "stream",
     "text": [
      "Collecting python-pptx\n",
      "  Downloading python-pptx-0.6.18.tar.gz (8.9 MB)\n",
      "Requirement already satisfied: lxml>=3.1.0 in c:\\users\\boat0\\anaconda3\\lib\\site-packages (from python-pptx) (4.6.1)\n",
      "Requirement already satisfied: Pillow>=3.3.2 in c:\\users\\boat0\\anaconda3\\lib\\site-packages (from python-pptx) (8.0.1)\n",
      "Requirement already satisfied: XlsxWriter>=0.5.7 in c:\\users\\boat0\\anaconda3\\lib\\site-packages (from python-pptx) (1.3.7)\n",
      "Building wheels for collected packages: python-pptx\n",
      "  Building wheel for python-pptx (setup.py): started\n",
      "  Building wheel for python-pptx (setup.py): finished with status 'done'\n",
      "  Created wheel for python-pptx: filename=python_pptx-0.6.18-py3-none-any.whl size=275708 sha256=f1dbee0f7919d8f56590b7f85b7b17187abeaa369ea4d644a65e8a0cf15eae34\n",
      "  Stored in directory: c:\\users\\boat0\\appdata\\local\\pip\\cache\\wheels\\11\\2b\\97\\d82ca57932fa62d52c723024419c5ec3b7c0f7ecf0a0f06332\n",
      "Successfully built python-pptx\n",
      "Installing collected packages: python-pptx\n",
      "Successfully installed python-pptx-0.6.18\n"
     ]
    }
   ],
   "source": [
    "!pip install python-pptx"
   ]
  },
  {
   "cell_type": "code",
   "execution_count": 2,
   "metadata": {},
   "outputs": [],
   "source": [
    "from pptx import Presentation"
   ]
  },
  {
   "cell_type": "markdown",
   "metadata": {},
   "source": [
    "สร้าง powerpoint ด้วย Presentation()"
   ]
  },
  {
   "cell_type": "code",
   "execution_count": 4,
   "metadata": {},
   "outputs": [],
   "source": [
    "prs = Presentation()\n",
    "#prs.save('test1.pptx')"
   ]
  },
  {
   "cell_type": "markdown",
   "metadata": {},
   "source": [
    "เลือกรูปแบบ slide โดยมันจะมี template อยู่ ใช้ .slide_layouts[]"
   ]
  },
  {
   "cell_type": "code",
   "execution_count": 6,
   "metadata": {},
   "outputs": [
    {
     "data": {
      "text/plain": [
       "[<pptx.slide.SlideLayout at 0x1985414ee00>,\n",
       " <pptx.slide.SlideLayout at 0x1985414ee50>,\n",
       " <pptx.slide.SlideLayout at 0x1985414eea0>,\n",
       " <pptx.slide.SlideLayout at 0x1985414eef0>,\n",
       " <pptx.slide.SlideLayout at 0x1985414ef40>,\n",
       " <pptx.slide.SlideLayout at 0x1985414ef90>,\n",
       " <pptx.slide.SlideLayout at 0x19854197040>,\n",
       " <pptx.slide.SlideLayout at 0x19854197090>,\n",
       " <pptx.slide.SlideLayout at 0x1985414e770>,\n",
       " <pptx.slide.SlideLayout at 0x1985414e7c0>,\n",
       " <pptx.slide.SlideLayout at 0x1985414edb0>]"
      ]
     },
     "execution_count": 6,
     "metadata": {},
     "output_type": "execute_result"
    }
   ],
   "source": [
    "list(prs.slide_layouts)"
   ]
  },
  {
   "cell_type": "markdown",
   "metadata": {},
   "source": [
    "เพิ่ม slide ด้วย .slides.add_slide(layout)"
   ]
  },
  {
   "cell_type": "code",
   "execution_count": 8,
   "metadata": {},
   "outputs": [],
   "source": [
    "slide = prs.slides.add_slide(prs.slide_layouts[8])"
   ]
  },
  {
   "cell_type": "markdown",
   "metadata": {},
   "source": [
    "ใน slide มี placeholder แต่ละตำแหน่ง เช่น title ... [0], body [1], pic[2]"
   ]
  },
  {
   "cell_type": "code",
   "execution_count": 10,
   "metadata": {},
   "outputs": [],
   "source": [
    "slide.shapes.title.text = \"Yoyo Mananchai\""
   ]
  },
  {
   "cell_type": "code",
   "execution_count": 11,
   "metadata": {},
   "outputs": [],
   "source": [
    "#prs.save('test2.pptx')"
   ]
  },
  {
   "cell_type": "markdown",
   "metadata": {},
   "source": [
    "ใช้ placeholder เพื่อง่ายๆ"
   ]
  },
  {
   "cell_type": "code",
   "execution_count": 12,
   "metadata": {},
   "outputs": [],
   "source": [
    "slide.placeholders[0].text = 'addding by pptx'"
   ]
  },
  {
   "cell_type": "code",
   "execution_count": 13,
   "metadata": {},
   "outputs": [],
   "source": [
    "prs.save('text3.pptx')"
   ]
  },
  {
   "cell_type": "markdown",
   "metadata": {},
   "source": [
    "ใส่รูป"
   ]
  },
  {
   "cell_type": "code",
   "execution_count": 15,
   "metadata": {},
   "outputs": [
    {
     "data": {
      "text/plain": [
       "4114800"
      ]
     },
     "execution_count": 15,
     "metadata": {},
     "output_type": "execute_result"
    }
   ],
   "source": [
    "slide.placeholders[1].height"
   ]
  },
  {
   "cell_type": "code",
   "execution_count": 17,
   "metadata": {},
   "outputs": [
    {
     "data": {
      "text/plain": [
       "5486400"
      ]
     },
     "execution_count": 17,
     "metadata": {},
     "output_type": "execute_result"
    }
   ],
   "source": [
    "slide.placeholders[1].width"
   ]
  },
  {
   "cell_type": "code",
   "execution_count": 18,
   "metadata": {},
   "outputs": [
    {
     "data": {
      "text/plain": [
       "<pptx.shapes.placeholder.PlaceholderPicture at 0x19855e4fe20>"
      ]
     },
     "execution_count": 18,
     "metadata": {},
     "output_type": "execute_result"
    }
   ],
   "source": [
    "slide.placeholders[1].insert_picture('mine.jpg')"
   ]
  },
  {
   "cell_type": "code",
   "execution_count": 19,
   "metadata": {},
   "outputs": [],
   "source": [
    "prs.save('test4.pptx')"
   ]
  }
 ],
 "metadata": {
  "kernelspec": {
   "display_name": "Python 3",
   "language": "python",
   "name": "python3"
  },
  "language_info": {
   "codemirror_mode": {
    "name": "ipython",
    "version": 3
   },
   "file_extension": ".py",
   "mimetype": "text/x-python",
   "name": "python",
   "nbconvert_exporter": "python",
   "pygments_lexer": "ipython3",
   "version": "3.8.5"
  }
 },
 "nbformat": 4,
 "nbformat_minor": 4
}
